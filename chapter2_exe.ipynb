{
  "nbformat": 4,
  "nbformat_minor": 0,
  "metadata": {
    "colab": {
      "provenance": [],
      "authorship_tag": "ABX9TyPW13YsA8i3tI/PHtwBYmzl",
      "include_colab_link": true
    },
    "kernelspec": {
      "name": "python3",
      "display_name": "Python 3"
    },
    "language_info": {
      "name": "python"
    }
  },
  "cells": [
    {
      "cell_type": "markdown",
      "metadata": {
        "id": "view-in-github",
        "colab_type": "text"
      },
      "source": [
        "<a href=\"https://colab.research.google.com/github/cacoon01011/22_05_Python_CH2/blob/main/chapter2_exe.ipynb\" target=\"_parent\"><img src=\"https://colab.research.google.com/assets/colab-badge.svg\" alt=\"Open In Colab\"/></a>"
      ]
    },
    {
      "cell_type": "markdown",
      "source": [
        "(1) 사용자에게 이름과 나이를 입력하게 한다. 사용자가 100살이 되는 연도를 화면에 출력 하는 프로그램을 작성하라"
      ],
      "metadata": {
        "id": "jUgQ194-P43i"
      }
    },
    {
      "cell_type": "code",
      "source": [
        "name = input(\"이름을 입력하시오.: \")\n",
        "age = int(input(\"나이를 입력하시오.: \"))\n",
        "year = 2022 - age + 100\n",
        "print(name + \"씨는\" + str(year) + \"년에 100살입니다.\")"
      ],
      "metadata": {
        "colab": {
          "base_uri": "https://localhost:8080/"
        },
        "id": "407PhqioSecb",
        "outputId": "4c4833ad-d713-4ac8-d184-03e356dc6de5"
      },
      "execution_count": 6,
      "outputs": [
        {
          "output_type": "stream",
          "name": "stdout",
          "text": [
            "이름을 입력하시오.: 한정민\n",
            "나이를 입력하시오.: 20\n",
            "한정민씨는2102년에 100살입니다.\n"
          ]
        }
      ]
    },
    {
      "cell_type": "markdown",
      "source": [
        "(2) 사용자로부터 3개의 값을 받아서 평균을 내어보라. 입력예제값 10, 20, 30"
      ],
      "metadata": {
        "id": "RcHsaTCbTbeW"
      }
    },
    {
      "cell_type": "code",
      "source": [
        "n1 = int(input(\"첫 번째 숫자를 입력하시오:\"))\n",
        "n2 = int(input(\"두 번째 숫자를 입력하시오:\"))\n",
        "n3 = int(input(\"세 번째 숫자를 입력하시오:\"))\n",
        "aver = (n1 + n2 + n3) / 3\n",
        "print(n1, n2, n3, \"의 평균은\", aver, \"입니다.\")"
      ],
      "metadata": {
        "colab": {
          "base_uri": "https://localhost:8080/"
        },
        "id": "NPC67nqQTfmS",
        "outputId": "07922cbd-d3ae-4cec-d913-2128f6e0c4b3"
      },
      "execution_count": 9,
      "outputs": [
        {
          "output_type": "stream",
          "name": "stdout",
          "text": [
            "첫 번째 숫자를 입력하시오:10\n",
            "두 번째 숫자를 입력하시오:20\n",
            "세 번째 숫자를 입력하시오:30\n",
            "10 20 30 의 평균은 20.0 입니다.\n"
          ]
        }
      ]
    },
    {
      "cell_type": "code",
      "source": [
        "n1 = int(input(\"첫 번째 숫자를 입력하시오:\"))\n",
        "n2 = int(input(\"두 번째 숫자를 입력하시오:\"))\n",
        "n3 = int(input(\"세 번째 숫자를 입력하시오:\"))\n",
        "aver = (n1 + n2 + n3) / 3\n",
        "sum = n1 + n2 + n3\n",
        "print(n1, n2, n3, \"의 합은\", sum,\"이고, 평균은\", aver, \"입니다.\")"
      ],
      "metadata": {
        "colab": {
          "base_uri": "https://localhost:8080/"
        },
        "id": "1wGqJ0H4VJ13",
        "outputId": "22705319-d9ac-426e-db80-665e5da9cd87"
      },
      "execution_count": 8,
      "outputs": [
        {
          "output_type": "stream",
          "name": "stdout",
          "text": [
            "첫 번째 숫자를 입력하시오:10\n",
            "두 번째 숫자를 입력하시오:20\n",
            "세 번째 숫자를 입력하시오:30\n",
            "10 20 30 의 합은 60 이고, 평균은 20.0 입니다.\n"
          ]
        }
      ]
    },
    {
      "cell_type": "markdown",
      "source": [
        "(3) 사용자로부터 반지름을 입력받아서 면적을 구하시오"
      ],
      "metadata": {
        "id": "OX61jSlMVyP0"
      }
    },
    {
      "cell_type": "code",
      "source": [
        "radius = int(input(\"반지름을 입력하시오.:\"))\n",
        "area = 3.141592 * radius * radius\n",
        "print(\"반지름이\",radius, \"인 원의 넓이는 =\", area, \"입니다.\" )"
      ],
      "metadata": {
        "colab": {
          "base_uri": "https://localhost:8080/"
        },
        "id": "OtZiwDTDVzNe",
        "outputId": "1f756348-77a6-4470-decc-0d9ba8c835d0"
      },
      "execution_count": 12,
      "outputs": [
        {
          "output_type": "stream",
          "name": "stdout",
          "text": [
            "반지름을 입력하시오.:10\n",
            "반지름이 10 인 원의 넓이는 = 314.1592 입니다.\n"
          ]
        }
      ]
    }
  ]
}